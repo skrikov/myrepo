{
  "nbformat": 4,
  "nbformat_minor": 5,
  "metadata": {
    "kernelspec": {
      "display_name": "Python 3",
      "language": "python",
      "name": "python3"
    },
    "colab": {
      "name": "Copy of vulcan_rwd_2021_May.ipynb",
      "provenance": [],
      "include_colab_link": true
    }
  },
  "cells": [
    {
      "cell_type": "markdown",
      "metadata": {
        "id": "view-in-github",
        "colab_type": "text"
      },
      "source": [
        "<a href=\"https://colab.research.google.com/github/skrikov/myrepo/blob/master/Copy_of_vulcan_rwd_2021_July_sk.ipynb\" target=\"_parent\"><img src=\"https://colab.research.google.com/assets/colab-badge.svg\" alt=\"Open In Colab\"/></a>"
      ]
    },
    {
      "cell_type": "markdown",
      "metadata": {
        "id": "eee9a47d"
      },
      "source": [
        "# Transforming FHIR resources\n",
        "\n",
        "> Convert FHIR resources into other types of FHIR resources or flatten into a table."
      ],
      "id": "eee9a47d"
    },
    {
      "cell_type": "markdown",
      "metadata": {
        "id": "a12da53a"
      },
      "source": [
        "[![Open In Colab](https://colab.research.google.com/assets/colab-badge.svg)](https://colab.research.google.com/github/pete88b/smart-on-fhir-client-py-demo/blob/main/vulcan_rwd_2021_May.ipynb)\n",
        "\n",
        "Please note: \n",
        "- Data on the FHIR server might change (resources might disapear making the IDs invalid, resources might be updated and no longer pass validation ...)\n",
        "    - you can search for and modify resources through the [HAPI FHIR swagger UI](http://hapi.fhir.org/baseR4)\n",
        "- This is not meant to be a fully robust solution - we make a few simplifications (like only looking at the 1st item in a list when pulling attributes) - to avoid getting lost in the details ..."
      ],
      "id": "a12da53a"
    },
    {
      "cell_type": "code",
      "metadata": {
        "id": "516167ef"
      },
      "source": [
        "#hide\n",
        "#all_demo_test\n",
        "IN_COLAB = 'google.colab' in str(get_ipython())\n",
        "if IN_COLAB:\n",
        "    !pip install -Uqq git+https://github.com/smart-on-fhir/client-py.git"
      ],
      "id": "516167ef",
      "execution_count": null,
      "outputs": []
    },
    {
      "cell_type": "code",
      "metadata": {
        "id": "bc127bf6"
      },
      "source": [
        "import requests\n",
        "import json\n",
        "from pathlib import Path\n",
        "import pandas as pd\n",
        "from fhirclient import client\n",
        "from fhirclient.models.annotation import Annotation\n",
        "from fhirclient.models.dosage import Dosage\n",
        "from fhirclient.models.fhirreference import FHIRReference\n",
        "from fhirclient.models.medication import Medication\n",
        "from fhirclient.models.medicationadministration import MedicationAdministration\n",
        "from fhirclient.models.medicationdispense import MedicationDispense\n",
        "from fhirclient.models.medicationrequest import MedicationRequest\n",
        "from fhirclient.models.medicationstatement import MedicationStatement"
      ],
      "id": "bc127bf6",
      "execution_count": null,
      "outputs": []
    },
    {
      "cell_type": "code",
      "metadata": {
        "id": "13d0e582"
      },
      "source": [
        "# copied from core to make running in colab simple\n",
        "def resource_to_string(resource, indent=None, length=100):\n",
        "    if isinstance(resource, list): return [resource_to_string(r,indent,length) for r in resource]\n",
        "    s=f'{resource.__class__.__name__} {json.dumps(resource.as_json(), indent=indent)}'\n",
        "    return f'{s[:length-4]} ...' if len(s)>length else s\n",
        "\n",
        "def print_resource(resource, indent=None, length=90):\n",
        "    if isinstance(resource, list): return [print_resource(r,indent,length) for r in resource]\n",
        "    print(resource_to_string(resource, indent, length))"
      ],
      "id": "13d0e582",
      "execution_count": null,
      "outputs": []
    },
    {
      "cell_type": "code",
      "metadata": {
        "id": "1d46cc76"
      },
      "source": [
        "settings = {\n",
        "    'app_id': 'my_web_app',\n",
        "    'api_base': 'http://hapi.fhir.org/baseR4'\n",
        "}\n",
        "smart = client.FHIRClient(settings=settings)"
      ],
      "id": "1d46cc76",
      "execution_count": null,
      "outputs": []
    },
    {
      "cell_type": "markdown",
      "metadata": {
        "id": "b52ea2b3"
      },
      "source": [
        "`pull_attr` allows us to pull values out of a resource using \"attribute paths\" that can\n",
        "- contain `.`s for nested attributes and \n",
        "- multiple paths separated by ` OR `"
      ],
      "id": "b52ea2b3"
    },
    {
      "cell_type": "code",
      "metadata": {
        "id": "991b448f"
      },
      "source": [
        "def noop(r): return r\n",
        "def default_format(r): return r.as_json() if hasattr(r,'as_json') else r\n",
        "def pull_attr(resouce,attr_path,fmt=default_format):\n",
        "    \"Pull a value from `resource` if we can find the attribute specified\"\n",
        "    for _attr_path in attr_path.split(' OR '):\n",
        "        r,found=resouce,True\n",
        "        for _attr in _attr_path.split('.'):\n",
        "            if not hasattr(r,_attr): \n",
        "                found=False; break\n",
        "            r=getattr(r,_attr)\n",
        "            if isinstance(r,list) and r: r=r[0]\n",
        "        if found:\n",
        "            return [fmt(_r) for _r in r] if isinstance(r,list) else fmt(r)"
      ],
      "id": "991b448f",
      "execution_count": null,
      "outputs": []
    },
    {
      "cell_type": "code",
      "metadata": {
        "id": "d268da61",
        "outputId": "c9596de0-f9de-46f1-b35a-fab5687dbed3"
      },
      "source": [
        "medication_request=MedicationRequest.read('2087020', smart.server)\n",
        "print_resource(medication_request)\n",
        "assert '2087020'==pull_attr(medication_request,'id')\n",
        "assert '2021-05-11T12:51:16.534+00:00'==pull_attr(medication_request,'meta.lastUpdated')\n",
        "assert '2087020'==pull_attr(medication_request,'id OR meta.lastUpdated')\n",
        "assert '2087020'==pull_attr(medication_request,'doesNotExist OR doesNotExist2 OR id')\n",
        "assert '2021-05-11T12:51:16.534+00:00'==pull_attr(medication_request,'doesNotExist OR meta.lastUpdated')\n",
        "assert '2021-05-11T12:51:16.534+00:00'==pull_attr(medication_request,'meta.lastUpdated OR id')"
      ],
      "id": "d268da61",
      "execution_count": null,
      "outputs": [
        {
          "output_type": "stream",
          "text": [
            "MedicationRequest {\"id\": \"2087020\", \"meta\": {\"lastUpdated\": \"2021-05-11T12:51:16.534+0 ...\n"
          ],
          "name": "stdout"
        }
      ]
    },
    {
      "cell_type": "markdown",
      "metadata": {
        "id": "1fa7583c"
      },
      "source": [
        "When an attribute is a `list` (like \"coding\" below), \n",
        "```\n",
        "  \"medicationCodeableConcept\": {\n",
        "    \"coding\": [\n",
        "      {\n",
        "        \"code\": \"630208\",\n",
        "        \"display\": \"Albuterol 0.83 MG/ML Inhalant Solution\",\n",
        "        \"system\": \"http://www.nlm.nih.gov/research/umls/rxnorm\"\n",
        "      },\n",
        "      {\n",
        "        \"system\": \"urn:oid:\"\n",
        "      }\n",
        "    ],\n",
        "    \"text\": \"Albuterol Sulfate (Albuterol Sulfate 2.5MG/3ML) 0.083 % Neb Neb, 2.5 Mg Neb\"\n",
        "  },\n",
        "```\n",
        "we want to use the 1st item in the list &darr;"
      ],
      "id": "1fa7583c"
    },
    {
      "cell_type": "code",
      "metadata": {
        "id": "d5b344ec",
        "outputId": "205a0f9e-25c6-4136-ea02-a7c0fb03b02a"
      },
      "source": [
        "pull_attr(medication_request,'medicationCodeableConcept.coding.code')"
      ],
      "id": "d5b344ec",
      "execution_count": null,
      "outputs": [
        {
          "output_type": "execute_result",
          "data": {
            "text/plain": [
              "'630208'"
            ]
          },
          "metadata": {
            "tags": []
          },
          "execution_count": 0
        }
      ]
    },
    {
      "cell_type": "markdown",
      "metadata": {
        "id": "5cd8e238"
      },
      "source": [
        "## Map medication request to medication statement\n",
        "\n",
        "The keys of `medication_request_to_medication_statement` are medication statement attributes, its values are medication request attributes."
      ],
      "id": "5cd8e238"
    },
    {
      "cell_type": "code",
      "metadata": {
        "id": "656c702e"
      },
      "source": [
        "medication_request_to_medication_statement=dict(\n",
        "    id='id', meta='meta', implicitRules='implicitRules', language='language', text='text', contained='contained', extension='extension', modifierExtension='modifierExtension',\n",
        "    identifier='identifier',\n",
        "#     basedOn='id', #TODO: make this a reference\n",
        "    partOf='partOf',\n",
        "    status='status',\n",
        "    statusReason='statusReason',\n",
        "    category='category',\n",
        "    medicationCodeableConcept='medicationCodeableConcept',\n",
        "    medicationReference='medicationReference',\n",
        "    subject='subject',\n",
        "    context='encounter',\n",
        "#     effectiveDateTime                         # might be better to leave this blank as we have dosage\n",
        "    effectivePeriod='dosageInstruction.timing', # might be better to leave this blank as we have dosage\n",
        "    dateAsserted='authoredOn',\n",
        "    informationSource='requester',\n",
        "#     derivedFrom='id', #TODO: make this a reference\n",
        "    reasonCode='reasonCode',\n",
        "    reasonReference='reasonReference',\n",
        "    note='note',\n",
        "    dosage='dosageInstruction'\n",
        ")"
      ],
      "id": "656c702e",
      "execution_count": null,
      "outputs": []
    },
    {
      "cell_type": "markdown",
      "metadata": {
        "id": "694eb380"
      },
      "source": [
        "## Map medication dispense to medication statement"
      ],
      "id": "694eb380"
    },
    {
      "cell_type": "code",
      "metadata": {
        "id": "491ac634"
      },
      "source": [
        "medication_dispense_to_medication_statement=dict(\n",
        "    id='id', meta='meta', implicitRules='implicitRules', language='language', text='text', contained='contained', extension='extension', modifierExtension='modifierExtension',\n",
        "    identifier='identifier',\n",
        "    basedOn='authorizingPrescription',\n",
        "    partOf='partOf',\n",
        "    status='status',\n",
        "    statusReason='statusReason',\n",
        "    category='category',\n",
        "    medicationCodeableConcept='medicationCodeableConcept',\n",
        "    medicationReference='medicationReference',\n",
        "    subject='subject',\n",
        "    context='context',\n",
        "#     effectiveDateTime                         # might be better to leave this blank as we have dosage\n",
        "    effectivePeriod='dosageInstruction.timing', # might be better to leave this blank as we have dosage\n",
        "    #     dateAsserted # pull from event history?\n",
        "    informationSource='performer',\n",
        "#     derivedFrom='id', #TODO: make this a reference\n",
        "#     reasonCode\n",
        "#     reasonReference\n",
        "    note='note',\n",
        "    dosage='dosageInstruction'\n",
        ")"
      ],
      "id": "491ac634",
      "execution_count": null,
      "outputs": []
    },
    {
      "cell_type": "markdown",
      "metadata": {
        "id": "7ab3acf8"
      },
      "source": [
        "## Map medication administration dosage to dosage"
      ],
      "id": "7ab3acf8"
    },
    {
      "cell_type": "code",
      "metadata": {
        "id": "09166760"
      },
      "source": [
        "medication_administration_dose_to_dose=dict(\n",
        "    text='text',\n",
        "    site='site',\n",
        "    route='route',\n",
        "    method='method',\n",
        "    doseQuantity='dose',\n",
        "    rateRatio='rateRatio',\n",
        "    rateQuantity='rateQuantity'\n",
        ")"
      ],
      "id": "09166760",
      "execution_count": null,
      "outputs": []
    },
    {
      "cell_type": "markdown",
      "metadata": {
        "id": "b8b3c5ad"
      },
      "source": [
        "## Map medication administration to medication statement"
      ],
      "id": "b8b3c5ad"
    },
    {
      "cell_type": "code",
      "metadata": {
        "id": "a24953e5"
      },
      "source": [
        "medication_administration_to_medication_statement=dict(\n",
        "    id='id', meta='meta', implicitRules='implicitRules', language='language', text='text', contained='contained', extension='extension', modifierExtension='modifierExtension',\n",
        "    identifier='identifier',\n",
        "    basedOn='request',\n",
        "    partOf='partOf',\n",
        "    status='status',\n",
        "    statusReason='statusReason',\n",
        "    category='category',\n",
        "    medicationCodeableConcept='medicationCodeableConcept',\n",
        "    medicationReference='medicationReference',\n",
        "    subject='subject',\n",
        "    context='context',\n",
        "    effectiveDateTime='effectiveDateTime',\n",
        "    effectivePeriod='effectivePeriod',\n",
        "#     dateAsserted # pull from event history?\n",
        "    informationSource='performer',\n",
        "#     derivedFrom='id', #TODO: make this a reference\n",
        "#     reasonCode\n",
        "    reasonReference='reasonReference',\n",
        "    note='note',\n",
        "#     dosage='dosage' # need to map MedicationAdministrationDosage to Dosage\n",
        ")"
      ],
      "id": "a24953e5",
      "execution_count": null,
      "outputs": []
    },
    {
      "cell_type": "code",
      "metadata": {
        "id": "768198dc"
      },
      "source": [
        "def transform(resource,new_type,mapping):\n",
        "    \"Pull data from `resource` to create an instance of `new_type` using `mapping`\"\n",
        "    result=new_type()\n",
        "    for k in mapping:\n",
        "        setattr(result,k,pull_attr(resource,mapping[k],noop))\n",
        "    if hasattr(result,'note'):\n",
        "        if not result.note: result.note=[Annotation()]\n",
        "        if result.note[0].text: result.note[0].text+='\\nCreated by py transform'\n",
        "        else: result.note[0].text='Created by py transform' # TODO: timestamp\n",
        "    return result"
      ],
      "id": "768198dc",
      "execution_count": null,
      "outputs": []
    },
    {
      "cell_type": "markdown",
      "metadata": {
        "id": "d932804b"
      },
      "source": [
        "## transform a medication request into a medication statement"
      ],
      "id": "d932804b"
    },
    {
      "cell_type": "code",
      "metadata": {
        "id": "876f9f79",
        "outputId": "607588f6-2369-4bcb-9ff5-f4f3cfb7343e"
      },
      "source": [
        "tfm_request=transform(medication_request,MedicationStatement,medication_request_to_medication_statement)\n",
        "ref=FHIRReference()\n",
        "ref.reference=f'MedicationRequest/{medication_request.id}'\n",
        "tfm_request.derivedFrom=[ref]\n",
        "tfm_request.basedOn=[ref]\n",
        "tfm_request.identifier=[tfm_request.identifier]\n",
        "# print_resource(tfm_request)\n",
        "print_resource(tfm_request,2,9999)"
      ],
      "id": "876f9f79",
      "execution_count": null,
      "outputs": [
        {
          "output_type": "stream",
          "text": [
            "MedicationStatement {\n",
            "  \"id\": \"2087020\",\n",
            "  \"meta\": {\n",
            "    \"lastUpdated\": \"2021-05-11T12:51:16.534+00:00\",\n",
            "    \"source\": \"#bl4SVWpGAkdLvNRm\",\n",
            "    \"versionId\": \"1\"\n",
            "  },\n",
            "  \"basedOn\": [\n",
            "    {\n",
            "      \"reference\": \"MedicationRequest/2087020\"\n",
            "    }\n",
            "  ],\n",
            "  \"derivedFrom\": [\n",
            "    {\n",
            "      \"reference\": \"MedicationRequest/2087020\"\n",
            "    }\n",
            "  ],\n",
            "  \"identifier\": [\n",
            "    {\n",
            "      \"system\": \"https://kpininja.com/identifier\",\n",
            "      \"value\": \"5119e94c-0a16-45b8-a555-0596d6cdc852\"\n",
            "    }\n",
            "  ],\n",
            "  \"informationSource\": {\n",
            "    \"reference\": \"Practitioner/2087019\"\n",
            "  },\n",
            "  \"medicationCodeableConcept\": {\n",
            "    \"coding\": [\n",
            "      {\n",
            "        \"code\": \"630208\",\n",
            "        \"display\": \"Albuterol 0.83 MG/ML Inhalant Solution\",\n",
            "        \"system\": \"http://www.nlm.nih.gov/research/umls/rxnorm\"\n",
            "      },\n",
            "      {\n",
            "        \"system\": \"urn:oid:\"\n",
            "      }\n",
            "    ],\n",
            "    \"text\": \"Albuterol Sulfate (Albuterol Sulfate 2.5MG/3ML) 0.083 % Neb Neb, 2.5 Mg Neb\"\n",
            "  },\n",
            "  \"note\": [\n",
            "    {\n",
            "      \"text\": \"Created by py transform\"\n",
            "    }\n",
            "  ],\n",
            "  \"status\": \"unknown\",\n",
            "  \"subject\": {\n",
            "    \"reference\": \"Patient/1995674\"\n",
            "  },\n",
            "  \"resourceType\": \"MedicationStatement\"\n",
            "}\n"
          ],
          "name": "stdout"
        }
      ]
    },
    {
      "cell_type": "markdown",
      "metadata": {
        "id": "f7971785"
      },
      "source": [
        "## transform a medication dispense into a medication statement"
      ],
      "id": "f7971785"
    },
    {
      "cell_type": "code",
      "metadata": {
        "id": "bed04410",
        "outputId": "0b6fea06-bfde-45d2-d7ad-3ae66b52974c"
      },
      "source": [
        "medication_dispense=MedicationDispense.read('2040745', smart.server)\n",
        "tfm_dispense=transform(medication_dispense, MedicationStatement, medication_dispense_to_medication_statement)\n",
        "ref=FHIRReference()\n",
        "ref.reference=f'MedicationDispense/{medication_dispense.id}'\n",
        "tfm_dispense.derivedFrom=[ref]\n",
        "tfm_dispense.identifier=[tfm_dispense.identifier]\n",
        "print_resource(tfm_dispense)\n",
        "# print_resource(tfm_dispense,2,9999)"
      ],
      "id": "bed04410",
      "execution_count": null,
      "outputs": [
        {
          "output_type": "stream",
          "text": [
            "MedicationStatement {\"id\": \"2040745\", \"meta\": {\"lastUpdated\": \"2021-05-10T11:56:56.228 ...\n"
          ],
          "name": "stdout"
        }
      ]
    },
    {
      "cell_type": "markdown",
      "metadata": {
        "id": "19d408f0"
      },
      "source": [
        "## transform a medication administration into a medication statement"
      ],
      "id": "19d408f0"
    },
    {
      "cell_type": "code",
      "metadata": {
        "id": "f68c0c8e",
        "outputId": "36d06cfd-1e26-4d09-a8ac-090aee545b6a"
      },
      "source": [
        "medication_administration=MedicationAdministration.read('2086901', smart.server)\n",
        "tfm_administration=transform(medication_administration, MedicationStatement, medication_administration_to_medication_statement)\n",
        "tfm_administration.dosage=[transform(medication_administration.dosage,Dosage,medication_administration_dose_to_dose)]\n",
        "ref=FHIRReference()\n",
        "ref.reference=f'MedicationAdministration/{medication_administration.id}'\n",
        "tfm_administration.derivedFrom=[ref]\n",
        "tfm_administration.identifier=[tfm_administration.identifier]\n",
        "print_resource(tfm_administration)\n",
        "# print_resource(tfm_administration,2,9999)"
      ],
      "id": "f68c0c8e",
      "execution_count": null,
      "outputs": [
        {
          "output_type": "stream",
          "text": [
            "MedicationStatement {\"id\": \"2086901\", \"meta\": {\"lastUpdated\": \"2021-05-18T17:03:24.627 ...\n"
          ],
          "name": "stdout"
        }
      ]
    },
    {
      "cell_type": "code",
      "metadata": {
        "id": "864d6ce0",
        "outputId": "3e370497-6cae-487c-a39c-06d63e245b4d"
      },
      "source": [
        "medication_statement=MedicationStatement.read(2086902, smart.server)\n",
        "print_resource(medication_statement)\n",
        "# print_resource(medication_statement,2,9999)"
      ],
      "id": "864d6ce0",
      "execution_count": null,
      "outputs": [
        {
          "output_type": "stream",
          "text": [
            "MedicationStatement {\"id\": \"2086902\", \"meta\": {\"lastUpdated\": \"2021-05-12T05:13:47.341 ...\n"
          ],
          "name": "stdout"
        }
      ]
    },
    {
      "cell_type": "markdown",
      "metadata": {
        "id": "fb81e3e0"
      },
      "source": [
        "This bit &darr; uses the mapping dictionaries we created earlier to build a list of \"attribute paths\" that we can use to create a data frame of all 4 mediction types"
      ],
      "id": "fb81e3e0"
    },
    {
      "cell_type": "code",
      "metadata": {
        "id": "b60d9e01",
        "outputId": "0b25e1d5-aabf-41e6-c09c-3bfaf5039bc4"
      },
      "source": [
        "attr_paths=[]\n",
        "for k in set([*medication_request_to_medication_statement.keys(),\n",
        "              *medication_dispense_to_medication_statement.keys(),\n",
        "              *medication_administration_to_medication_statement.keys()]):\n",
        "    attr_paths.append(set([\n",
        "        medication_request_to_medication_statement.get(k,None),\n",
        "        medication_dispense_to_medication_statement.get(k,None),\n",
        "        medication_administration_to_medication_statement.get(k,None)\n",
        "    ]))\n",
        "def set_to_attr_path(s):\n",
        "    return ' OR '.join([a for a in s if a])\n",
        "attr_paths=[set_to_attr_path(s) for s in attr_paths]\n",
        "attr_paths"
      ],
      "id": "b60d9e01",
      "execution_count": null,
      "outputs": [
        {
          "output_type": "execute_result",
          "data": {
            "text/plain": [
              "['language',\n",
              " 'request OR authorizingPrescription',\n",
              " 'authoredOn',\n",
              " 'id',\n",
              " 'text',\n",
              " 'contained',\n",
              " 'meta',\n",
              " 'status',\n",
              " 'subject',\n",
              " 'medicationReference',\n",
              " 'reasonCode',\n",
              " 'effectiveDateTime',\n",
              " 'identifier',\n",
              " 'partOf',\n",
              " 'reasonReference',\n",
              " 'extension',\n",
              " 'modifierExtension',\n",
              " 'note',\n",
              " 'implicitRules',\n",
              " 'dosageInstruction',\n",
              " 'context OR encounter',\n",
              " 'performer OR requester',\n",
              " 'medicationCodeableConcept',\n",
              " 'dosageInstruction.timing OR effectivePeriod',\n",
              " 'statusReason',\n",
              " 'category']"
            ]
          },
          "metadata": {
            "tags": []
          },
          "execution_count": 0
        }
      ]
    },
    {
      "cell_type": "code",
      "metadata": {
        "id": "49af3976"
      },
      "source": [
        "def to_df(resources,attr_paths):\n",
        "    \"Create a data frame of `resources` - one row per resource - one column per attribute path\"\n",
        "    d=dict(resourceType=[r.__class__.__name__ for r in resources])\n",
        "    for attr_path in attr_paths:\n",
        "        d[attr_path]=[]\n",
        "        for r in resources:\n",
        "            d[attr_path].append(pull_attr(r,attr_path))\n",
        "    return pd.DataFrame(d)"
      ],
      "id": "49af3976",
      "execution_count": null,
      "outputs": []
    },
    {
      "cell_type": "markdown",
      "metadata": {
        "id": "44a6d2ae"
      },
      "source": [
        "create a data frame of all 4 mediction types"
      ],
      "id": "44a6d2ae"
    },
    {
      "cell_type": "code",
      "metadata": {
        "id": "7bd5a310",
        "outputId": "7a26d272-c0f0-48d8-e5a6-f3eedcdbe611"
      },
      "source": [
        "df=to_df([medication_request,medication_dispense,medication_administration,medication_statement],attr_paths)\n",
        "df.to_csv('_tmp_a.csv',index=False) # In colab, use the \"Files\" sidebar to open or download this file\n",
        "df"
      ],
      "id": "7bd5a310",
      "execution_count": null,
      "outputs": [
        {
          "output_type": "execute_result",
          "data": {
            "text/html": [
              "<div>\n",
              "<style scoped>\n",
              "    .dataframe tbody tr th:only-of-type {\n",
              "        vertical-align: middle;\n",
              "    }\n",
              "\n",
              "    .dataframe tbody tr th {\n",
              "        vertical-align: top;\n",
              "    }\n",
              "\n",
              "    .dataframe thead th {\n",
              "        text-align: right;\n",
              "    }\n",
              "</style>\n",
              "<table border=\"1\" class=\"dataframe\">\n",
              "  <thead>\n",
              "    <tr style=\"text-align: right;\">\n",
              "      <th></th>\n",
              "      <th>resourceType</th>\n",
              "      <th>language</th>\n",
              "      <th>request OR authorizingPrescription</th>\n",
              "      <th>authoredOn</th>\n",
              "      <th>id</th>\n",
              "      <th>text</th>\n",
              "      <th>contained</th>\n",
              "      <th>meta</th>\n",
              "      <th>status</th>\n",
              "      <th>subject</th>\n",
              "      <th>...</th>\n",
              "      <th>modifierExtension</th>\n",
              "      <th>note</th>\n",
              "      <th>implicitRules</th>\n",
              "      <th>dosageInstruction</th>\n",
              "      <th>context OR encounter</th>\n",
              "      <th>performer OR requester</th>\n",
              "      <th>medicationCodeableConcept</th>\n",
              "      <th>dosageInstruction.timing OR effectivePeriod</th>\n",
              "      <th>statusReason</th>\n",
              "      <th>category</th>\n",
              "    </tr>\n",
              "  </thead>\n",
              "  <tbody>\n",
              "    <tr>\n",
              "      <th>0</th>\n",
              "      <td>MedicationRequest</td>\n",
              "      <td>None</td>\n",
              "      <td>None</td>\n",
              "      <td>None</td>\n",
              "      <td>2087020</td>\n",
              "      <td>None</td>\n",
              "      <td>None</td>\n",
              "      <td>{'lastUpdated': '2021-05-11T12:51:16.534+00:00...</td>\n",
              "      <td>unknown</td>\n",
              "      <td>{'reference': 'Patient/1995674'}</td>\n",
              "      <td>...</td>\n",
              "      <td>None</td>\n",
              "      <td>None</td>\n",
              "      <td>None</td>\n",
              "      <td>None</td>\n",
              "      <td>None</td>\n",
              "      <td>None</td>\n",
              "      <td>{'coding': [{'code': '630208', 'display': 'Alb...</td>\n",
              "      <td>None</td>\n",
              "      <td>None</td>\n",
              "      <td>None</td>\n",
              "    </tr>\n",
              "    <tr>\n",
              "      <th>1</th>\n",
              "      <td>MedicationDispense</td>\n",
              "      <td>None</td>\n",
              "      <td>None</td>\n",
              "      <td>None</td>\n",
              "      <td>2040745</td>\n",
              "      <td>None</td>\n",
              "      <td>None</td>\n",
              "      <td>{'lastUpdated': '2021-05-10T11:56:56.228+00:00...</td>\n",
              "      <td>completed</td>\n",
              "      <td>{'reference': 'Patient/1993103'}</td>\n",
              "      <td>...</td>\n",
              "      <td>None</td>\n",
              "      <td>None</td>\n",
              "      <td>None</td>\n",
              "      <td>None</td>\n",
              "      <td>None</td>\n",
              "      <td>None</td>\n",
              "      <td>{'coding': [{'system': 'urn:oid:'}, {'system':...</td>\n",
              "      <td>None</td>\n",
              "      <td>None</td>\n",
              "      <td>None</td>\n",
              "    </tr>\n",
              "    <tr>\n",
              "      <th>2</th>\n",
              "      <td>MedicationAdministration</td>\n",
              "      <td>None</td>\n",
              "      <td>None</td>\n",
              "      <td>None</td>\n",
              "      <td>2086901</td>\n",
              "      <td>None</td>\n",
              "      <td>None</td>\n",
              "      <td>{'lastUpdated': '2021-05-18T17:03:24.627+00:00...</td>\n",
              "      <td>completed</td>\n",
              "      <td>{'reference': 'Patient/1995674'}</td>\n",
              "      <td>...</td>\n",
              "      <td>None</td>\n",
              "      <td>None</td>\n",
              "      <td>None</td>\n",
              "      <td>None</td>\n",
              "      <td>None</td>\n",
              "      <td>None</td>\n",
              "      <td>{'coding': [{'code': '745752', 'display': 'ALB...</td>\n",
              "      <td>None</td>\n",
              "      <td>None</td>\n",
              "      <td>None</td>\n",
              "    </tr>\n",
              "    <tr>\n",
              "      <th>3</th>\n",
              "      <td>MedicationStatement</td>\n",
              "      <td>None</td>\n",
              "      <td>None</td>\n",
              "      <td>None</td>\n",
              "      <td>2086902</td>\n",
              "      <td>None</td>\n",
              "      <td>None</td>\n",
              "      <td>{'lastUpdated': '2021-05-12T05:13:47.341+00:00...</td>\n",
              "      <td>completed</td>\n",
              "      <td>{'reference': 'Patient/1995674'}</td>\n",
              "      <td>...</td>\n",
              "      <td>None</td>\n",
              "      <td>None</td>\n",
              "      <td>None</td>\n",
              "      <td>None</td>\n",
              "      <td>None</td>\n",
              "      <td>None</td>\n",
              "      <td>{'coding': [{'code': '745752', 'display': 'ALB...</td>\n",
              "      <td>None</td>\n",
              "      <td>None</td>\n",
              "      <td>None</td>\n",
              "    </tr>\n",
              "  </tbody>\n",
              "</table>\n",
              "<p>4 rows × 27 columns</p>\n",
              "</div>"
            ],
            "text/plain": [
              "               resourceType language request OR authorizingPrescription  \\\n",
              "0         MedicationRequest     None                               None   \n",
              "1        MedicationDispense     None                               None   \n",
              "2  MedicationAdministration     None                               None   \n",
              "3       MedicationStatement     None                               None   \n",
              "\n",
              "  authoredOn       id  text contained  \\\n",
              "0       None  2087020  None      None   \n",
              "1       None  2040745  None      None   \n",
              "2       None  2086901  None      None   \n",
              "3       None  2086902  None      None   \n",
              "\n",
              "                                                meta     status  \\\n",
              "0  {'lastUpdated': '2021-05-11T12:51:16.534+00:00...    unknown   \n",
              "1  {'lastUpdated': '2021-05-10T11:56:56.228+00:00...  completed   \n",
              "2  {'lastUpdated': '2021-05-18T17:03:24.627+00:00...  completed   \n",
              "3  {'lastUpdated': '2021-05-12T05:13:47.341+00:00...  completed   \n",
              "\n",
              "                            subject  ... modifierExtension  note  \\\n",
              "0  {'reference': 'Patient/1995674'}  ...              None  None   \n",
              "1  {'reference': 'Patient/1993103'}  ...              None  None   \n",
              "2  {'reference': 'Patient/1995674'}  ...              None  None   \n",
              "3  {'reference': 'Patient/1995674'}  ...              None  None   \n",
              "\n",
              "  implicitRules dosageInstruction context OR encounter performer OR requester  \\\n",
              "0          None              None                 None                   None   \n",
              "1          None              None                 None                   None   \n",
              "2          None              None                 None                   None   \n",
              "3          None              None                 None                   None   \n",
              "\n",
              "                           medicationCodeableConcept  \\\n",
              "0  {'coding': [{'code': '630208', 'display': 'Alb...   \n",
              "1  {'coding': [{'system': 'urn:oid:'}, {'system':...   \n",
              "2  {'coding': [{'code': '745752', 'display': 'ALB...   \n",
              "3  {'coding': [{'code': '745752', 'display': 'ALB...   \n",
              "\n",
              "  dosageInstruction.timing OR effectivePeriod statusReason category  \n",
              "0                                        None         None     None  \n",
              "1                                        None         None     None  \n",
              "2                                        None         None     None  \n",
              "3                                        None         None     None  \n",
              "\n",
              "[4 rows x 27 columns]"
            ]
          },
          "metadata": {
            "tags": []
          },
          "execution_count": 0
        }
      ]
    },
    {
      "cell_type": "markdown",
      "metadata": {
        "id": "0041c63d"
      },
      "source": [
        "create a dataframe of the same 4 resources - after transforming them to medication statements"
      ],
      "id": "0041c63d"
    },
    {
      "cell_type": "code",
      "metadata": {
        "id": "eed8acde",
        "outputId": "20e80f6e-df58-40f8-84bb-66244fec12f4"
      },
      "source": [
        "statement_attr_paths=[\n",
        "    'id', 'meta', 'implicitRules',  'text', 'contained', 'extension',\n",
        "    'modifierExtension', 'identifier', 'basedOn', 'partOf', 'status',\n",
        "    'statusReason', 'category', 'medicationCodeableConcept', 'medicationReference',\n",
        "    'subject', 'context', 'effectiveDateTime', 'effectivePeriod', 'dateAsserted',\n",
        "    'informationSource', 'derivedFrom', 'reasonCode', 'reasonReference', 'note', 'dosage']\n",
        "df=to_df([tfm_request,tfm_dispense,tfm_administration,medication_statement],statement_attr_paths)\n",
        "df.to_csv('_tmp_b.csv',index=False)\n",
        "df"
      ],
      "id": "eed8acde",
      "execution_count": null,
      "outputs": [
        {
          "output_type": "execute_result",
          "data": {
            "text/html": [
              "<div>\n",
              "<style scoped>\n",
              "    .dataframe tbody tr th:only-of-type {\n",
              "        vertical-align: middle;\n",
              "    }\n",
              "\n",
              "    .dataframe tbody tr th {\n",
              "        vertical-align: top;\n",
              "    }\n",
              "\n",
              "    .dataframe thead th {\n",
              "        text-align: right;\n",
              "    }\n",
              "</style>\n",
              "<table border=\"1\" class=\"dataframe\">\n",
              "  <thead>\n",
              "    <tr style=\"text-align: right;\">\n",
              "      <th></th>\n",
              "      <th>resourceType</th>\n",
              "      <th>id</th>\n",
              "      <th>meta</th>\n",
              "      <th>implicitRules</th>\n",
              "      <th>text</th>\n",
              "      <th>contained</th>\n",
              "      <th>extension</th>\n",
              "      <th>modifierExtension</th>\n",
              "      <th>identifier</th>\n",
              "      <th>basedOn</th>\n",
              "      <th>...</th>\n",
              "      <th>context</th>\n",
              "      <th>effectiveDateTime</th>\n",
              "      <th>effectivePeriod</th>\n",
              "      <th>dateAsserted</th>\n",
              "      <th>informationSource</th>\n",
              "      <th>derivedFrom</th>\n",
              "      <th>reasonCode</th>\n",
              "      <th>reasonReference</th>\n",
              "      <th>note</th>\n",
              "      <th>dosage</th>\n",
              "    </tr>\n",
              "  </thead>\n",
              "  <tbody>\n",
              "    <tr>\n",
              "      <th>0</th>\n",
              "      <td>MedicationStatement</td>\n",
              "      <td>2087020</td>\n",
              "      <td>{'lastUpdated': '2021-05-11T12:51:16.534+00:00...</td>\n",
              "      <td>None</td>\n",
              "      <td>None</td>\n",
              "      <td>None</td>\n",
              "      <td>None</td>\n",
              "      <td>None</td>\n",
              "      <td>{'system': 'https://kpininja.com/identifier', ...</td>\n",
              "      <td>{'reference': 'MedicationRequest/2087020'}</td>\n",
              "      <td>...</td>\n",
              "      <td>None</td>\n",
              "      <td>None</td>\n",
              "      <td>None</td>\n",
              "      <td>None</td>\n",
              "      <td>{'reference': 'Practitioner/2087019'}</td>\n",
              "      <td>{'reference': 'MedicationRequest/2087020'}</td>\n",
              "      <td>None</td>\n",
              "      <td>None</td>\n",
              "      <td>{'text': 'Created by py transform'}</td>\n",
              "      <td>None</td>\n",
              "    </tr>\n",
              "    <tr>\n",
              "      <th>1</th>\n",
              "      <td>MedicationStatement</td>\n",
              "      <td>2040745</td>\n",
              "      <td>{'lastUpdated': '2021-05-10T11:56:56.228+00:00...</td>\n",
              "      <td>None</td>\n",
              "      <td>None</td>\n",
              "      <td>None</td>\n",
              "      <td>None</td>\n",
              "      <td>None</td>\n",
              "      <td>{'system': 'https://kpininja.com/identifier', ...</td>\n",
              "      <td>None</td>\n",
              "      <td>...</td>\n",
              "      <td>None</td>\n",
              "      <td>None</td>\n",
              "      <td>None</td>\n",
              "      <td>None</td>\n",
              "      <td>None</td>\n",
              "      <td>{'reference': 'MedicationDispense/2040745'}</td>\n",
              "      <td>None</td>\n",
              "      <td>None</td>\n",
              "      <td>{'text': 'Created by py transform'}</td>\n",
              "      <td>None</td>\n",
              "    </tr>\n",
              "    <tr>\n",
              "      <th>2</th>\n",
              "      <td>MedicationStatement</td>\n",
              "      <td>2086901</td>\n",
              "      <td>{'lastUpdated': '2021-05-18T17:03:24.627+00:00...</td>\n",
              "      <td>None</td>\n",
              "      <td>None</td>\n",
              "      <td>None</td>\n",
              "      <td>None</td>\n",
              "      <td>None</td>\n",
              "      <td>{'system': 'https://kpininja.com/identifier', ...</td>\n",
              "      <td>None</td>\n",
              "      <td>...</td>\n",
              "      <td>None</td>\n",
              "      <td>2016-12-05T00:00:00+00:00</td>\n",
              "      <td>None</td>\n",
              "      <td>None</td>\n",
              "      <td>None</td>\n",
              "      <td>{'reference': 'MedicationAdministration/2086901'}</td>\n",
              "      <td>None</td>\n",
              "      <td>None</td>\n",
              "      <td>{'text': 'Created by py transform'}</td>\n",
              "      <td>{'route': {'coding': [{'display': 'INH', 'syst...</td>\n",
              "    </tr>\n",
              "    <tr>\n",
              "      <th>3</th>\n",
              "      <td>MedicationStatement</td>\n",
              "      <td>2086902</td>\n",
              "      <td>{'lastUpdated': '2021-05-12T05:13:47.341+00:00...</td>\n",
              "      <td>None</td>\n",
              "      <td>None</td>\n",
              "      <td>None</td>\n",
              "      <td>None</td>\n",
              "      <td>None</td>\n",
              "      <td>{'system': 'https://kpininja.com/identifier', ...</td>\n",
              "      <td>None</td>\n",
              "      <td>...</td>\n",
              "      <td>None</td>\n",
              "      <td>2016-12-05T00:00:00+00:00</td>\n",
              "      <td>None</td>\n",
              "      <td>None</td>\n",
              "      <td>None</td>\n",
              "      <td>None</td>\n",
              "      <td>None</td>\n",
              "      <td>None</td>\n",
              "      <td>None</td>\n",
              "      <td>{'patientInstruction': '                    tw...</td>\n",
              "    </tr>\n",
              "  </tbody>\n",
              "</table>\n",
              "<p>4 rows × 27 columns</p>\n",
              "</div>"
            ],
            "text/plain": [
              "          resourceType       id  \\\n",
              "0  MedicationStatement  2087020   \n",
              "1  MedicationStatement  2040745   \n",
              "2  MedicationStatement  2086901   \n",
              "3  MedicationStatement  2086902   \n",
              "\n",
              "                                                meta implicitRules  text  \\\n",
              "0  {'lastUpdated': '2021-05-11T12:51:16.534+00:00...          None  None   \n",
              "1  {'lastUpdated': '2021-05-10T11:56:56.228+00:00...          None  None   \n",
              "2  {'lastUpdated': '2021-05-18T17:03:24.627+00:00...          None  None   \n",
              "3  {'lastUpdated': '2021-05-12T05:13:47.341+00:00...          None  None   \n",
              "\n",
              "  contained extension modifierExtension  \\\n",
              "0      None      None              None   \n",
              "1      None      None              None   \n",
              "2      None      None              None   \n",
              "3      None      None              None   \n",
              "\n",
              "                                          identifier  \\\n",
              "0  {'system': 'https://kpininja.com/identifier', ...   \n",
              "1  {'system': 'https://kpininja.com/identifier', ...   \n",
              "2  {'system': 'https://kpininja.com/identifier', ...   \n",
              "3  {'system': 'https://kpininja.com/identifier', ...   \n",
              "\n",
              "                                      basedOn  ... context  \\\n",
              "0  {'reference': 'MedicationRequest/2087020'}  ...    None   \n",
              "1                                        None  ...    None   \n",
              "2                                        None  ...    None   \n",
              "3                                        None  ...    None   \n",
              "\n",
              "           effectiveDateTime effectivePeriod dateAsserted  \\\n",
              "0                       None            None         None   \n",
              "1                       None            None         None   \n",
              "2  2016-12-05T00:00:00+00:00            None         None   \n",
              "3  2016-12-05T00:00:00+00:00            None         None   \n",
              "\n",
              "                       informationSource  \\\n",
              "0  {'reference': 'Practitioner/2087019'}   \n",
              "1                                   None   \n",
              "2                                   None   \n",
              "3                                   None   \n",
              "\n",
              "                                         derivedFrom reasonCode  \\\n",
              "0         {'reference': 'MedicationRequest/2087020'}       None   \n",
              "1        {'reference': 'MedicationDispense/2040745'}       None   \n",
              "2  {'reference': 'MedicationAdministration/2086901'}       None   \n",
              "3                                               None       None   \n",
              "\n",
              "  reasonReference                                 note  \\\n",
              "0            None  {'text': 'Created by py transform'}   \n",
              "1            None  {'text': 'Created by py transform'}   \n",
              "2            None  {'text': 'Created by py transform'}   \n",
              "3            None                                 None   \n",
              "\n",
              "                                              dosage  \n",
              "0                                               None  \n",
              "1                                               None  \n",
              "2  {'route': {'coding': [{'display': 'INH', 'syst...  \n",
              "3  {'patientInstruction': '                    tw...  \n",
              "\n",
              "[4 rows x 27 columns]"
            ]
          },
          "metadata": {
            "tags": []
          },
          "execution_count": 0
        }
      ]
    }
  ]
}